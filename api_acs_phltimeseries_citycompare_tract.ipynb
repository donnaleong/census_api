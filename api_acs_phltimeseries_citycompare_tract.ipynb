{
 "cells": [
  {
   "cell_type": "markdown",
   "metadata": {},
   "source": [
    "# API Call for: 1) Philadelphia County Time Series, 2) City Comparisons in one year, 3) Philadelphia Census Tract-level data for one year \n",
    "\n",
    "Written by Donna Leong\n",
    "\n",
    "August 5, 2020\n",
    "\n",
    "This notebook contains three parts to make querying the ACS/Census API easier. \n",
    "\n",
    "Part 1 allows the user to create a time series for variables within Philadelphia County to track changes over time. \n",
    "\n",
    "Part 2 allows the user to create a comparison among different cities and the US national count. This is for a specific year. \n",
    "\n",
    "Part 3 allows the user to pull down tract-level information for variables in one year. "
   ]
  },
  {
   "cell_type": "code",
   "execution_count": null,
   "metadata": {},
   "outputs": [],
   "source": [
    "import requests\n",
    "import json\n",
    "import pandas as pd\n",
    "import pprint    # library for cleanly printing Python data structures\n",
    "pp = pprint.PrettyPrinter()"
   ]
  },
  {
   "cell_type": "code",
   "execution_count": null,
   "metadata": {},
   "outputs": [],
   "source": [
    "#Here, we are pulling in the master list of variables from the ACS 2018 survey \n",
    "acs_vars=pd.read_csv(\"https://raw.githubusercontent.com/donnaleong/census_api/master/acs_api_var.csv\")\n",
    "mastervars=acs_vars.drop(columns=['Required','Attributes','Limit',\"Predicate Type\",\"Group\"])\n",
    "dfx=pd.DataFrame([['NAME', 'Name of Place', 'Meta'], ['GEO_ID', 'GEOID', 'Meta']], columns=list(['Name', 'Label', 'Concept']))\n",
    "mvars=mastervars.append(dfx, ignore_index=True)"
   ]
  },
  {
   "cell_type": "code",
   "execution_count": null,
   "metadata": {
    "scrolled": true
   },
   "outputs": [],
   "source": [
    "# 3. Select all the variables that you want to query (up to 50 at a time). You can create many sets of variables within this cell\n",
    "## You might want to consider making a var list for each topic within SOTC\n",
    "\n",
    "##You always need to add 'NAME' and 'GEO_ID' to your list \n",
    "\n",
    "var1=('NAME',\n",
    "         'GEO_ID',\n",
    "        \"B03002_001E\", #total pop (sanity check: should equal B03002_002E+B01001I_001E)\n",
    "        \"B01001I_001E\", #total hispanic pop\n",
    "        \"B03002_002E\", #total non hispanic pop\n",
    "        \"B01001H_001E\", #total nh white pop\n",
    "         ### #\"B03002_003E\", #sanity check for nhwhite\n",
    "       \"B03002_004E\", #totl nh black pop\n",
    "       \"B03002_005E\", #total nh native american pop\n",
    "       \"B03002_006E\", #total nh asian pop\n",
    "        )\n",
    "\n",
    "##create as many variables as you want and just set the variable list that you want as v1 in the next section\n",
    "\n",
    "var2=('NAME',\n",
    "        'GEO_ID',\n",
    "     \n",
    "     )\n",
    "\n",
    "var3=('NAME',\n",
    "        'GEO_ID',\n",
    "     \n",
    "     )"
   ]
  },
  {
   "cell_type": "markdown",
   "metadata": {},
   "source": [
    "# **************\n"
   ]
  },
  {
   "cell_type": "markdown",
   "metadata": {},
   "source": [
    "# Part 1: Philadelphia County Time Series"
   ]
  },
  {
   "cell_type": "markdown",
   "metadata": {},
   "source": [
    "Setting up query: https://api.census.gov/data/2018/acs/acs1/examples.html\n",
    "\n",
    "Tables list: https://api.census.gov/data/2018/acs/acs1/groups.html\n",
    "\n",
    "Variables list: https://api.census.gov/data/2018/acs/acs1/variables.html\n",
    "\n",
    "\n",
    "\n",
    "API Key: b8b1cf4fb168f39fb72e6d881580ca7bd06de349\n",
    "\n"
   ]
  },
  {
   "cell_type": "markdown",
   "metadata": {},
   "source": [
    "We are trying to mimic a query link like this: \n",
    "\n",
    "https://api.census.gov/data/2018/acs/acs1?get=B00001_001E&for=county:*&in=state:*&key=YOUR_KEY_GOES_HERE\n",
    "\n",
    "but we are parsing the link so that we can easily change it for the different geographies and years"
   ]
  },
  {
   "cell_type": "markdown",
   "metadata": {},
   "source": [
    "## Part 1.1: Select parameters for your specific data request\n",
    "\n",
    "make sure to check that all the years are comparable over time"
   ]
  },
  {
   "cell_type": "code",
   "execution_count": null,
   "metadata": {},
   "outputs": [],
   "source": [
    "# 1. Select your years & make sure to check that all the years are comparable over time\n",
    "years = {'2018', '2017', '2016', '2015', '2014', '2013', '2012', '2011', '2010'}"
   ]
  },
  {
   "cell_type": "code",
   "execution_count": null,
   "metadata": {},
   "outputs": [],
   "source": [
    "# 2. Select your dataset\n",
    "dataset = \"acs/acs1\"  #american community survey - 1 year estimates"
   ]
  },
  {
   "cell_type": "code",
   "execution_count": null,
   "metadata": {},
   "outputs": [],
   "source": [
    "# 3. Make sure to set the variable list that you want to query as v1. \n",
    "v1=var1"
   ]
  },
  {
   "cell_type": "markdown",
   "metadata": {},
   "source": [
    "## Part 1.2 Set up an index for the variables"
   ]
  },
  {
   "cell_type": "code",
   "execution_count": null,
   "metadata": {},
   "outputs": [],
   "source": [
    "## here, we are creating an index that searches the master variable list for ones that match our variable list (v1) and pulls the names of the variables\n",
    "var_tot=pd.DataFrame(list(zip(v1)),\n",
    "              columns=['Name'])\n",
    "var=pd.merge(var_tot, mvars, on=['Name'], how='left')\n",
    "var['Label']=var['Label'].str.cat(var['Concept'],sep=\" FROM TABLE: \")\n",
    "var=var.drop(['Concept'], axis=1)\n",
    "\n",
    "## The table that spits out here is an index created for just the variables we are interested in\n",
    "var"
   ]
  },
  {
   "cell_type": "markdown",
   "metadata": {},
   "source": [
    "## Part 1.3 Query the Census API using a loop function"
   ]
  },
  {
   "cell_type": "code",
   "execution_count": null,
   "metadata": {},
   "outputs": [],
   "source": [
    "#set the variables into the second half of the query string \n",
    "get_vars=var['Name']     \n",
    "\n",
    "#setting url query parts \n",
    "HOST = \"https://api.census.gov/data\"\n",
    "predicates = {}\n",
    "predicates[\"get\"]= \",\".join(var['Name'])\n",
    "#these below are set to philadelphia, pa\n",
    "predicates[\"for\"] = \"county:101\"\n",
    "predicates[\"in\"]=\"state:42\"\n",
    "predicates[\"key\"] = \"b8b1cf4fb168f39fb72e6d881580ca7bd06de349\"\n",
    "\n",
    "#create a loop to pull down data from 2018-2010\n",
    "df = pd.DataFrame()\n",
    "\n",
    "for y in list(years):\n",
    "    base_url = \"/\".join([HOST, y, dataset])\n",
    "    response=requests.get(base_url,params=predicates)\n",
    "    results=response.text\n",
    "    data = json.loads(results)\n",
    "    data1=pd.DataFrame(data)\n",
    "    data1['year']= y \n",
    "    df=df.append(data1, ignore_index=False)\n",
    "    \n",
    "df"
   ]
  },
  {
   "cell_type": "markdown",
   "metadata": {},
   "source": [
    "## Part 1.4 Gotta clean all of the data!"
   ]
  },
  {
   "cell_type": "code",
   "execution_count": null,
   "metadata": {},
   "outputs": [],
   "source": [
    "#This will drop all non-observations in rows\n",
    "df=df.drop(0)"
   ]
  },
  {
   "cell_type": "code",
   "execution_count": null,
   "metadata": {},
   "outputs": [],
   "source": [
    "# This renames all the columns using our index\n",
    "col = var['Label'].tolist()\n",
    "col.extend(['state','county','year'])\n",
    "col_names=col\n",
    "print(col_names)\n",
    "df.columns = col_names\n",
    "df"
   ]
  },
  {
   "cell_type": "markdown",
   "metadata": {},
   "source": [
    "## Part 1.5 Export dataframe as csv\n"
   ]
  },
  {
   "cell_type": "code",
   "execution_count": null,
   "metadata": {},
   "outputs": [],
   "source": [
    "df.to_csv(r'phl_timesries_var1.csv')"
   ]
  },
  {
   "cell_type": "markdown",
   "metadata": {},
   "source": [
    "# **\n"
   ]
  },
  {
   "cell_type": "markdown",
   "metadata": {},
   "source": [
    "# **"
   ]
  },
  {
   "cell_type": "markdown",
   "metadata": {},
   "source": [
    "# Part 2: Creating comparison across cities"
   ]
  },
  {
   "cell_type": "markdown",
   "metadata": {},
   "source": [
    "\n",
    "The following code allows us to combine all the variables across different tables to create a query for the API website.\n",
    "\n",
    "We are trying to mimic a query link like this: \n",
    "\n",
    "https://api.census.gov/data/2018/acs/acs1?get=B00001_001E&for=place:*&in=state:*&key=YOUR_KEY_GOES_HERE\n",
    "\n",
    "but we are parsing the link so that we can easily change it for the different states and places (cities). \n",
    "\n",
    "FYI: normally, FIPS are [state][county][subcounty], but if we use place, we don't need to enter a county. Therefore, the FIPS are creating is [state][place]"
   ]
  },
  {
   "cell_type": "markdown",
   "metadata": {},
   "source": [
    "## Part 2.1: Select parameters for your specific data request\n"
   ]
  },
  {
   "cell_type": "code",
   "execution_count": null,
   "metadata": {},
   "outputs": [],
   "source": [
    "# 1. Select ONLY ONE YEAR \n",
    "years = '2018'"
   ]
  },
  {
   "cell_type": "code",
   "execution_count": null,
   "metadata": {},
   "outputs": [],
   "source": [
    "# 2. Select your dataset\n",
    "dataset = \"acs/acs1\"  #american community survey - 1 year estimates"
   ]
  },
  {
   "cell_type": "code",
   "execution_count": null,
   "metadata": {},
   "outputs": [],
   "source": [
    "# 3. Select the [state][place] that you want to compare \n",
    "#we are creating the part of the query with geolocation (&for=place:*&in=state:*)\n",
    "#Add more if you want \n",
    "\n",
    "locations=[\"us:1\", #USA avg\n",
    "            \"place:04000&in=state:24\", #Baltimore, MD\n",
    "            \"place:07000&in=state:25\", #Boston, MA\n",
    "            \"place:14000&in=state:17\", #Chicago, IL\n",
    "            \"place:16000&in=state:39\", #Cleveland, OH\n",
    "            \"place:22000&in=state:26\", #Detroit, MI\n",
    "            \"place:50000&in=state:11\", #District of Columbia\n",
    "            \"place:35000&in=state:48\", #Houston, TX\n",
    "            \"place:61000&in=state:42\", #Pittsburgh, PA\n",
    "            \"place:60000&in=state:42\", #Philadelphia, PA\n",
    "            \"place:55000&in=state:04\" #Phoenix, AZ\n",
    "                  ]"
   ]
  },
  {
   "cell_type": "code",
   "execution_count": null,
   "metadata": {},
   "outputs": [],
   "source": [
    "# 4. Select the variable set that you want to use \n",
    "v1=var1     "
   ]
  },
  {
   "cell_type": "markdown",
   "metadata": {},
   "source": [
    "## Part 2.2 Check that the variable list is set to the one we want \n",
    "See top of the notebook for all the variable lists"
   ]
  },
  {
   "cell_type": "code",
   "execution_count": null,
   "metadata": {},
   "outputs": [],
   "source": [
    "## Don't touch \n",
    "## here, we are creating an index that searches the master variable list for ones that match our variable list (v1) and pulls the names of the variables\n",
    "var_tot=pd.DataFrame(list(zip(v1)),\n",
    "              columns=['Name'])\n",
    "var=pd.merge(var_tot, mvars, on=['Name'], how='left')\n",
    "var['Label']=var['Label'].str.cat(var['Concept'],sep=\" FROM TABLE: \")\n",
    "var=var.drop(['Concept'], axis=1)\n",
    "\n",
    "## The table that spits out here is an index created for just the variables we are interested in\n",
    "var"
   ]
  },
  {
   "cell_type": "markdown",
   "metadata": {},
   "source": [
    "## Part 2.3 It's loop time"
   ]
  },
  {
   "cell_type": "code",
   "execution_count": null,
   "metadata": {},
   "outputs": [],
   "source": [
    "HOST = \"https://api.census.gov/data\"\n",
    "\n",
    "get_vars=var['Name']\n",
    "get= \",\".join(get_vars)\n",
    "key = \"b8b1cf4fb168f39fb72e6d881580ca7bd06de349\"\n",
    "base_url = \"/\".join([HOST, years, dataset])\n",
    "\n",
    "\n",
    "#create the loop!\n",
    "df=pd.DataFrame()\n",
    "\n",
    "for l in locations:\n",
    "    full_url=\"{}?get={}&for={}&key={}\".format(base_url,get,l,key)\n",
    "    response=requests.get(full_url)\n",
    "    results=response.text\n",
    "    data=json.loads(results)\n",
    "    data1=pd.DataFrame(data)\n",
    "    df=df.append(data1, ignore_index=False)\n",
    "    \n",
    "df"
   ]
  },
  {
   "cell_type": "markdown",
   "metadata": {},
   "source": [
    "## Part 2.4 Clean the data"
   ]
  },
  {
   "cell_type": "code",
   "execution_count": null,
   "metadata": {},
   "outputs": [],
   "source": [
    "# This drops all the non-value rows\n",
    "df=df.drop(0)"
   ]
  },
  {
   "cell_type": "code",
   "execution_count": null,
   "metadata": {},
   "outputs": [],
   "source": [
    "# This renames all the columns using our index\n",
    "col = var['Label'].tolist()\n",
    "col.extend(['state','place'])\n",
    "col_names=col\n",
    "df.columns = col_names\n",
    "df"
   ]
  },
  {
   "cell_type": "markdown",
   "metadata": {},
   "source": [
    "## Part 2.5 Save as CSV"
   ]
  },
  {
   "cell_type": "code",
   "execution_count": null,
   "metadata": {},
   "outputs": [],
   "source": [
    "#Rename the csv to something that makes sense\n",
    "df.to_csv(r'citycompare_var1_2018.csv')"
   ]
  },
  {
   "cell_type": "markdown",
   "metadata": {},
   "source": [
    "# **"
   ]
  },
  {
   "cell_type": "markdown",
   "metadata": {},
   "source": [
    "# Part 3: Looking at census tract-level data for one year "
   ]
  },
  {
   "cell_type": "markdown",
   "metadata": {},
   "source": [
    "# Part 3.1: Select the parameters of your query"
   ]
  },
  {
   "cell_type": "code",
   "execution_count": null,
   "metadata": {},
   "outputs": [],
   "source": [
    "# 1. Select the year you want to use\n",
    "year = \"2018\""
   ]
  },
  {
   "cell_type": "code",
   "execution_count": null,
   "metadata": {},
   "outputs": [],
   "source": [
    "# 2. Select the Census product you want to use (FYI tract-level data not available for 1 year estimates)\n",
    "dataset = \"acs/acs5\" "
   ]
  },
  {
   "cell_type": "code",
   "execution_count": null,
   "metadata": {},
   "outputs": [],
   "source": [
    "# 3. Select the variable set that you want to use (list is at the top of notebook)\n",
    "v1=var1     "
   ]
  },
  {
   "cell_type": "markdown",
   "metadata": {},
   "source": [
    "# Part 3.2 Create an index for the variable list "
   ]
  },
  {
   "cell_type": "code",
   "execution_count": null,
   "metadata": {},
   "outputs": [],
   "source": [
    "## Don't touch \n",
    "## here, we are creating an index that searches the master variable list for ones that match our variable list (v1) and pulls the names of the variables\n",
    "var_tot=pd.DataFrame(list(zip(v1)),\n",
    "              columns=['Name'])\n",
    "var=pd.merge(var_tot, mvars, on=['Name'], how='left')\n",
    "var['Label']=var['Label'].str.cat(var['Concept'],sep=\" FROM TABLE: \")\n",
    "var=var.drop(['Concept'], axis=1)\n",
    "\n",
    "## The table that spits out here is an index created for just the variables we are interested in\n",
    "var"
   ]
  },
  {
   "cell_type": "markdown",
   "metadata": {},
   "source": [
    "# Part 3.3 Call the API "
   ]
  },
  {
   "cell_type": "code",
   "execution_count": null,
   "metadata": {},
   "outputs": [],
   "source": [
    "HOST = \"https://api.census.gov/data\"\n",
    "base_url = \"/\".join([HOST, year, dataset])\n",
    "\n",
    "predicates = {}\n",
    "predicates[\"get\"]= \",\".join(var['Name'])\n",
    "#these are set to all census tracts in philadelphia, pa\n",
    "predicates[\"for\"] = \"tract:*\"\n",
    "predicates[\"in\"]=\"state:42+county:101\"  \n",
    "predicates[\"key\"] = \"b8b1cf4fb168f39fb72e6d881580ca7bd06de349\"\n",
    "\n",
    "#pull down all tract info for certain year\n",
    "df = pd.DataFrame()\n",
    "\n",
    "response=requests.get(base_url,params=predicates)\n",
    "results=response.text\n",
    "data = json.loads(results)\n",
    "data1=pd.DataFrame(data)\n",
    "df=df.append(data1, ignore_index=False)\n",
    "\n",
    "df"
   ]
  },
  {
   "cell_type": "markdown",
   "metadata": {},
   "source": [
    "# Part 3.4 Clean the data "
   ]
  },
  {
   "cell_type": "code",
   "execution_count": 1,
   "metadata": {},
   "outputs": [
    {
     "ename": "NameError",
     "evalue": "name 'df' is not defined",
     "output_type": "error",
     "traceback": [
      "\u001b[0;31m---------------------------------------------------------------------------\u001b[0m",
      "\u001b[0;31mNameError\u001b[0m                                 Traceback (most recent call last)",
      "\u001b[0;32m<ipython-input-1-3a5934cab9e3>\u001b[0m in \u001b[0;36m<module>\u001b[0;34m\u001b[0m\n\u001b[1;32m      1\u001b[0m \u001b[0;31m# This drops all the non-value rows\u001b[0m\u001b[0;34m\u001b[0m\u001b[0;34m\u001b[0m\u001b[0;34m\u001b[0m\u001b[0m\n\u001b[0;32m----> 2\u001b[0;31m \u001b[0mdf\u001b[0m\u001b[0;34m=\u001b[0m\u001b[0mdf\u001b[0m\u001b[0;34m.\u001b[0m\u001b[0mdrop\u001b[0m\u001b[0;34m(\u001b[0m\u001b[0;36m0\u001b[0m\u001b[0;34m)\u001b[0m\u001b[0;34m\u001b[0m\u001b[0;34m\u001b[0m\u001b[0m\n\u001b[0m",
      "\u001b[0;31mNameError\u001b[0m: name 'df' is not defined"
     ]
    }
   ],
   "source": [
    "# This drops all the non-value rows\n",
    "df=df.drop(0)"
   ]
  },
  {
   "cell_type": "code",
   "execution_count": null,
   "metadata": {},
   "outputs": [],
   "source": [
    "# This renames all the columns using our index\n",
    "col = var['Label'].tolist()\n",
    "col.extend(['state','county', 'tract'])\n",
    "col_names=col\n",
    "df.columns = col_names\n",
    "df"
   ]
  },
  {
   "cell_type": "markdown",
   "metadata": {},
   "source": [
    "# Part 3.5 Save as CSV"
   ]
  },
  {
   "cell_type": "code",
   "execution_count": null,
   "metadata": {},
   "outputs": [],
   "source": [
    "df.to_csv(r'tract_var1_2018.csv')"
   ]
  }
 ],
 "metadata": {
  "kernelspec": {
   "display_name": "Python 3",
   "language": "python",
   "name": "python3"
  },
  "language_info": {
   "codemirror_mode": {
    "name": "ipython",
    "version": 3
   },
   "file_extension": ".py",
   "mimetype": "text/x-python",
   "name": "python",
   "nbconvert_exporter": "python",
   "pygments_lexer": "ipython3",
   "version": "3.6.9"
  }
 },
 "nbformat": 4,
 "nbformat_minor": 4
}
